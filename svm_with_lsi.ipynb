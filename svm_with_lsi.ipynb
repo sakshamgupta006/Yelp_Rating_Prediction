{
 "cells": [
  {
   "cell_type": "code",
   "execution_count": 9,
   "metadata": {
    "collapsed": true
   },
   "outputs": [],
   "source": [
    "import pandas as pd\n",
    "import numpy as np\n",
    "from time import time"
   ]
  },
  {
   "cell_type": "code",
   "execution_count": 108,
   "metadata": {},
   "outputs": [],
   "source": [
    "from sklearn.model_selection import train_test_split\n",
    "from sklearn.feature_extraction.text import CountVectorizer\n",
    "from sklearn.naive_bayes import BernoulliNB\n",
    "from sklearn.svm import SVC\n",
    "from sklearn.decomposition import TruncatedSVD\n",
    "from sklearn.pipeline import Pipeline\n",
    "from sklearn.model_selection import GridSearchCV\n",
    "from sklearn.metrics import confusion_matrix\n",
    "from sklearn.metrics import precision_score\n",
    "from sklearn.metrics import classification_report"
   ]
  },
  {
   "cell_type": "code",
   "execution_count": null,
   "metadata": {},
   "outputs": [],
   "source": [
    "literal_text = pd.read_csv('/Yelp/dataset/train.csv', index_col=0)\n",
    "literal_text.head()"
   ]
  },
  {
   "cell_type": "code",
   "execution_count": null,
   "metadata": {},
   "outputs": [],
   "source": [
    "undersample = literal_text[literal_text['star'] == 0].sample(n=len(literal_text[literal_text['star'] == 1]))\n",
    "rows = literal_text[literal_text['star'] == 1]\n",
    "\n",
    "final = pd.concat([undersample, rows])\n",
    "final.groupby('star').count()"
   ]
  },
  {
   "cell_type": "code",
   "execution_count": null,
   "metadata": {},
   "outputs": [],
   "source": [
    "# Convert data using CountVectorizer with optimal parameters and run dimensionality reduction\n",
    "\n",
    "cv = CountVectorizer(lowercase=False, binary=True, min_df=3, ngram_range=(1, 2))\n",
    "tf = cv.fit_transform(final['literal text'])\n",
    "print(\"Number of words:\",len(cv.get_feature_names()))"
   ]
  },
  {
   "cell_type": "code",
   "execution_count": null,
   "metadata": {},
   "outputs": [],
   "source": [
    "# Find values for n_components that find 85%, 90%, and 95% variance\n",
    "\n",
    "for i in (525, 775, 1180):\n",
    "    svd = TruncatedSVD(n_components=i)\n",
    "    svd.fit(tf)\n",
    "    print(np.sum(svd.explained_variance_ratio_))"
   ]
  },
  {
   "cell_type": "code",
   "execution_count": null,
   "metadata": {},
   "outputs": [],
   "source": [
    "# Split data into training and testing\n",
    "train, test, traint, testt = train_test_split(final['literal text'], final['star'], test_size=0.20)"
   ]
  },
  {
   "cell_type": "markdown",
   "metadata": {},
   "source": [
    "## Configure Pipelines and Parameters for Grid Search"
   ]
  },
  {
   "cell_type": "code",
   "execution_count": 88,
   "metadata": {},
   "outputs": [],
   "source": [
    "# Create pipelines for Naive Bayes and SVM workflows\n",
    "\n",
    "SVM1_pipeline = Pipeline([\n",
    "    ('SVMvect', CountVectorizer(lowercase=False,binary=True)),\n",
    "    ('SVMclf', SVC(kernel='linear'))\n",
    "])\n",
    "\n",
    "SVM2_pipeline = Pipeline([\n",
    "    ('SVMvect', CountVectorizer(lowercase=False,binary=True)),\n",
    "    ('SVMdim', TruncatedSVD()),\n",
    "    ('SVMclf', SVC(kernel='linear'))\n",
    "])"
   ]
  },
  {
   "cell_type": "code",
   "execution_count": 135,
   "metadata": {
    "collapsed": true
   },
   "outputs": [],
   "source": [
    "# Create parameter grids for Naive Bayes and SVM workflows\n",
    "\n",
    "SVM1_parameters = {\n",
    "    \n",
    "    'SVMvect__min_df': (3,5),\n",
    "    'SVMvect__ngram_range': ((1,1),(1,2)),\n",
    "  \n",
    "    'SVMclf__C': (1, 10, 100, 1000)\n",
    "    \n",
    "}\n",
    "\n",
    "SVM2_parameters = {\n",
    "    \n",
    "    'SVMvect__min_df': (3,),    \n",
    "    'SVMvect__ngram_range': ((1,2),),    \n",
    "\n",
    "    'SVMdim__n_components': (525, 775, 1180),\n",
    "\n",
    "    'SVMclf__C': (1,)\n",
    "    \n",
    "}\n"
   ]
  },
  {
   "cell_type": "code",
   "execution_count": 126,
   "metadata": {},
   "outputs": [],
   "source": [
    "def runTests(data, targets, pipeline, parameters):\n",
    "\n",
    "    \"\"\" Perform grid search with specified pipeline and parameters\n",
    "        on data training set with targets as labels\n",
    "        \n",
    "        Evaluate performance based on precision and print parameters\n",
    "        for best estimator\n",
    "        \n",
    "        grid search object is returned for further analysis\"\"\"\n",
    "\n",
    "    grid_search = GridSearchCV(pipeline, parameters, verbose=1, cv=10, scoring='precision')\n",
    "\n",
    "    print(\"Performing grid search...\")\n",
    "    print(\"pipeline:\", [name for name, _ in pipeline.steps])\n",
    "    print(\"parameters:\")\n",
    "    print(parameters)\n",
    "    t0 = time()\n",
    "    grid_search.fit(data, targets)\n",
    "    print(\"done in %0.3fs\" % (time() - t0))\n",
    "    print()\n",
    "\n",
    "    print(\"Best score: %0.3f\" % grid_search.best_score_)\n",
    "    print(\"Best parameters set:\")\n",
    "    best_parameters = grid_search.best_estimator_.get_params()\n",
    "    for param_name in sorted(parameters.keys()):\n",
    "        print(\"\\t%s: %r\" % (param_name, best_parameters[param_name]))\n",
    "        \n",
    "    return grid_search"
   ]
  },
  {
   "cell_type": "code",
   "execution_count": null,
   "metadata": {},
   "outputs": [],
   "source": [
    "# Run grid search for SVM without dimensionality reduction\n",
    "SVM1_grid_search = runTests(train, traint, SVM1_pipeline, SVM1_parameters)"
   ]
  },
  {
   "cell_type": "code",
   "execution_count": null,
   "metadata": {},
   "outputs": [],
   "source": [
    "SVM2_grid_search = runTests(train, traint, SVM2_pipeline, SVM2_parameters)"
   ]
  },
  {
   "cell_type": "code",
   "execution_count": null,
   "metadata": {},
   "outputs": [],
   "source": [
    "print(\"Naive Bayes\")\n",
    "print(\"  Average fit time:\",np.mean(NB_grid_search.cv_results_['mean_fit_time']))\n",
    "print(\"  Average score time:\",np.mean(NB_grid_search.cv_results_['mean_score_time']))"
   ]
  },
  {
   "cell_type": "code",
   "execution_count": null,
   "metadata": {},
   "outputs": [],
   "source": [
    "\n",
    "# Gather results from grid search\n",
    "SVM1_results = pd.DataFrame({'params': SVM1_grid_search.cv_results_['params'], 'Classifier': 'SVM w/o Reduction', 'mean_test_score': SVM1_grid_search.cv_results_['mean_test_score']}) \n",
    "SVM2_results = pd.DataFrame({'params': SVM2_grid_search.cv_results_['params'], 'Classifier': 'SVM with Reduction', 'mean_test_score': SVM2_grid_search.cv_results_['mean_test_score']})\n",
    "grid_search_results = pd.concat([NB_results, SVM1_results, SVM2_results], ignore_index=True)\n",
    "grid_search_results"
   ]
  },
  {
   "cell_type": "code",
   "execution_count": null,
   "metadata": {},
   "outputs": [],
   "source": [
    "print(\"Support Vector Machine (w/ LSA)\")\n",
    "print(\"  Average fit time:\",np.mean(SVM2_grid_search.cv_results_['mean_fit_time']))\n",
    "print(\"  Average score time:\",np.mean(SVM2_grid_search.cv_results_['mean_score_time']))"
   ]
  },
  {
   "cell_type": "code",
   "execution_count": 139,
   "metadata": {},
   "outputs": [],
   "source": [
    "# Export grid search results to CSV\n",
    "grid_search_results.to_csv(path_or_buf='test.csv',sep=',')"
   ]
  },
  {
   "cell_type": "code",
   "execution_count": null,
   "metadata": {},
   "outputs": [],
   "source": [
    "# Fit to target data using optimal parameters in grid search and run on test data\n",
    "cv = CountVectorizer(lowercase=False,binary=True, min_df=3, ngram_range=(1,2))\n",
    "tf = cv.fit_transform(train)\n",
    "\n",
    "svd = TruncatedSVD(n_components=1180)\n",
    "tf_svd = svd.fit_transform(tf)\n",
    "\n",
    "clf = SVC(kernel='linear', C=1)\n",
    "clf.fit(tf_svd, traint)\n",
    "\n",
    "predicted = clf.predict(svd.transform(cv.transform(test)))\n",
    "\n",
    "precision = precision_score(testt, predicted, average=None)\n",
    "\n",
    "print(classification_report(testt, predicted, target_names=['stars']))\n",
    "\n",
    "print(\"\\nConfusion Matrix:\")\n",
    "print(confusion_matrix(testt, predicted))"
   ]
  }
 ],
 "metadata": {
  "kernelspec": {
   "display_name": "Python 3",
   "language": "python",
   "name": "python3"
  },
  "language_info": {
   "codemirror_mode": {
    "name": "ipython",
    "version": 2
   },
   "file_extension": ".py",
   "mimetype": "text/x-python",
   "name": "python",
   "nbconvert_exporter": "python",
   "pygments_lexer": "ipython2",
   "version": "2.7.15"
  }
 },
 "nbformat": 4,
 "nbformat_minor": 2
}
