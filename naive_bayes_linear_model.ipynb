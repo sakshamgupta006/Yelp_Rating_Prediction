{
 "cells": [
  {
   "cell_type": "code",
   "execution_count": 1,
   "metadata": {},
   "outputs": [],
   "source": [
    "import numpy as np\n",
    "import pandas as pd\n",
    "from sklearn.linear_model import LogisticRegression\n",
    "from sklearn.feature_extraction.text import CountVectorizer, TfidfVectorizer\n",
    "from sklearn import metrics"
   ]
  },
  {
   "cell_type": "code",
   "execution_count": 25,
   "metadata": {},
   "outputs": [
    {
     "name": "stdout",
     "output_type": "stream",
     "text": [
      "<bound method NDFrame.head of          Unnamed: 0             business_id  cool        date  funny  \\\n",
      "0                 5  vgfcTvK81oD4r50NMjU2Ag     0  2011-02-25    0.0   \n",
      "1                18  alG1fb1kl2vmT8s34jbbHg     1  2015-09-05    1.0   \n",
      "2                21  u73j2VQ3TGWdMO-AG7MABw     0  2017-07-06    0.0   \n",
      "3                28  7AlULGZI1pHt0imODsqdkg     0  2012-02-12    0.0   \n",
      "4                31  cP8ErpZfRzdVR5Fvks-pnQ     0  2012-02-12    0.0   \n",
      "5                36  7vxm0G4g857HzRqqpeu6bw     0  2016-11-18    0.0   \n",
      "6                41  XgRDG9E_WLEbl8S-QUqQkQ     0  2015-11-05    0.0   \n",
      "7                48  CtI7MMRF-arzGJxA1nJccQ     0  2016-06-18    0.0   \n",
      "8                52  e9UsRb-fmza5ukU8Ftduew     1  2016-07-02    1.0   \n",
      "9                53  nUaLFTfUqVKMFQonsWBnag     0  2016-06-11    0.0   \n",
      "10               61  lqCJiHlxzRpuYt-u_XQUvg     0  2016-03-06    1.0   \n",
      "11               66  9E1q2uEMd881wnruicNTUA     0  2016-07-02    0.0   \n",
      "12               73  qwy9xdDuCwaVf8r-Wjx5ig     0  2016-06-11    0.0   \n",
      "13               75  Wc9UpJhOcdSj7olZkz7SJA     0  2016-04-11    0.0   \n",
      "14               76  XGLGvB8S6-Anmt7gZkPLkQ     0  2016-06-18    0.0   \n",
      "15               79  yz3KtngrF2PQrif8JW7gdw     0  2016-05-28    0.0   \n",
      "16               83  T2XdzAcj0M_kBD9_BHfZlw     0  2016-05-08    0.0   \n",
      "17               85  fbLYRHIZAt3q839whhaBUg     0  2016-03-06    0.0   \n",
      "18               91  qdx6pWIoBposH9tPph2h9w     0  2013-07-25    0.0   \n",
      "19              101  ixAh9crILnJ9tM8LhWFhkw     0  2017-04-05    0.0   \n",
      "20              105  VmspRdKauEargr8YX1oL-Q     0  2017-04-10    0.0   \n",
      "21              106  pR9HHzbUdZ0Gt80_3NmmQw     0  2016-08-05    0.0   \n",
      "22              107  xqbvqZHNyj2qExHdizzd0w     0  2017-04-10    0.0   \n",
      "23              108  JPfi__QJAaRzmfh5aOyFEw     0  2017-01-31    0.0   \n",
      "24              115  VhQXJteVrG3L-wq8HlYFqw     1  2012-01-13    0.0   \n",
      "25              121  qDguZjZSYPOzq-je_EqO3w     3  2011-08-01    0.0   \n",
      "26              130  tEfmHuo_dNanyTaC5PyoOQ     0  2013-04-25    0.0   \n",
      "27              131  lJOGYkb8_n77ixVh_3zaug     0  2011-12-02    0.0   \n",
      "28              133  iVCx91Wrn-CjpxJAyLHPxg     2  2011-01-03    0.0   \n",
      "29              134  sscP36MO34i5ep4QO8c7KA     1  2012-01-28    0.0   \n",
      "...             ...                     ...   ...         ...    ...   \n",
      "1199237     5996872  LrBCULmDal38G7-UdGM7zA     0  2017-04-10    0.0   \n",
      "1199238     5996878  mG71gQ5HWl7ut9OCN6NJKA     0  2013-03-14    0.0   \n",
      "1199239     5996883  uLL2uKqYnPAFwBw11LzDUQ     0  2010-03-15    0.0   \n",
      "1199240     5996894  Cr4ipI-tr-R8Q0NilkWNkA     0  2010-04-02    0.0   \n",
      "1199241     5996895  5CJL_2-XwCGBmOav4mFdYg     0  2010-01-30    0.0   \n",
      "1199242     5996898  yfxDa8RFOvJPQh0rNtakHA     1  2010-03-19    1.0   \n",
      "1199243     5996900  F-NJWGBEGj_a-o_ifGACcw     0  2018-05-29    0.0   \n",
      "1199244     5996905  CDLyT9EeaD4IIZmCCtTgHg     0  2016-06-07    0.0   \n",
      "1199245     5996909  ajoqEHnCZTD8-8GqGLq9-Q     0  2013-11-03    0.0   \n",
      "1199246     5996931  ny0AwrA3vjo3ZpYeRLJfqg     3  2013-08-15    1.0   \n",
      "1199247     5996933  Xl6I0-JmFE_6w28bku2idQ     2  2013-01-24    0.0   \n",
      "1199248     5996934  QylMuwQjVHo5ElzNLw9gpg     2  2009-12-11    3.0   \n",
      "1199249     5996943  KU_FnvsuvhVT7aOzlErPlQ     2  2012-10-06    0.0   \n",
      "1199250     5996944  S3-JpB5dBhMXmauMqeoN-g     6  2013-10-03    0.0   \n",
      "1199251     5996947  NiBzh0kHusvH5rdnpm7yVw     2  2014-03-28    1.0   \n",
      "1199252     5996948  zINKP9rtvo2IUKTZoYJUvQ     6  2016-01-21    1.0   \n",
      "1199253     5996951  Ty2BpVQNekxWC47yTD9Tpg     2  2011-04-27    0.0   \n",
      "1199254     5996952  kOUnvmGamiw90BfmthoQGg     1  2011-08-06    0.0   \n",
      "1199255     5996959  GnODIDJz09LecpudDoynCg     2  2011-12-03    0.0   \n",
      "1199256     5996962  uqnFLc-1MxWw5f4SIyEf4Q     1  2013-12-12    1.0   \n",
      "1199257     5996966  Trs4cEYdP6AX_KihTk9kWQ     0  2012-08-29    0.0   \n",
      "1199258     5996970  zjwdU1OdlbKTGjm-IfD4TQ     1  2012-03-01    2.0   \n",
      "1199259     5996971  ceuvH6NpDhpT1p4q1w93pA     1  2011-09-12    1.0   \n",
      "1199260     5996973  vzqzoa-plufwTsQUwW_s6Q     0  2012-05-07    1.0   \n",
      "1199261     5996975  3-HFGxmbzSax-NySJ_LzDg     1  2014-10-06    2.0   \n",
      "1199262     5996977  OPSNdO3LNPMt7qz1MNb42g     0  2017-12-23    0.0   \n",
      "1199263     5996983  hGBdtLUHanbw6rMRoMxUSQ     0  2017-07-07    0.0   \n",
      "1199264     5996986  R_fQGSUQv0L_fRiuua47dw     1  2018-02-21    0.0   \n",
      "1199265     5996995  b_8jCti0vuouJ_fjZpdmZw     1  2018-04-14    0.0   \n",
      "1199266     5996997  6E4i0NHTRAgpwbbRwZhlnw     0  2018-06-07    0.0   \n",
      "\n",
      "                      review_id  stars  \\\n",
      "0        pfavA0hr3nyqO61oupj-lA    1.0   \n",
      "1        eShfPWENUmZ9sP7fstPt7Q    5.0   \n",
      "2        7EgEjUpcb8q-B5dPCMvkaQ    2.0   \n",
      "3        UaHgsL0xS4UnJ_iKqeOk_w    5.0   \n",
      "4        -CresnnXQSHrQ85Ogm-Pqw    5.0   \n",
      "5        O-I4Y329P9FND7skkMCdDg    5.0   \n",
      "6        5D_MsAJHrMa8QKkpE3g1Sg    5.0   \n",
      "7        _03MY3VpWImsHHmDdll0Mw    4.0   \n",
      "8        w78rEDYoPU_PVklmfBsOWA    2.0   \n",
      "9        RVO0dQJvBv33qNU1HBtBbw    4.0   \n",
      "10       kl2nojmhZ-mMS4eoYwPlMQ    4.0   \n",
      "11       stokm3Fv449kbLHn3RWHDg    3.0   \n",
      "12       H5Kn3qdB2g1x44wC-tAI3Q    4.0   \n",
      "13       dbfzieXNqQLsZjE7BSRZXg    3.0   \n",
      "14       r0dp0LMAnhzQDoSN3tleBw    1.0   \n",
      "15       SLA1YP9doUc8h-6Kd34QmA    1.0   \n",
      "16       qxPiEGIHy5xyVy78avH5Rg    4.0   \n",
      "17       k35JcHzHaXwEAEEqan-TaQ    3.0   \n",
      "18       mnh4yY2_jIupURg1r_8pXw    1.0   \n",
      "19       Fv1cqziL1JShSztJWYkTcA    4.0   \n",
      "20       5sXSVB7QiNx87XkhNSs01A    5.0   \n",
      "21       sJybnuOiOY9yb3WwdQuTTA    5.0   \n",
      "22       BC2-Mup-2YPJPpcihNoa9A    5.0   \n",
      "23       mqhCY5oLA1LXP6gZ3JQDTQ    3.0   \n",
      "24       0RqkBJegJpH7thxPTL30NA    4.0   \n",
      "25       BP6XZmb7ugvc1De9mvoQpA    4.0   \n",
      "26       MhkLj0c7EjcasKObXbr35A    3.0   \n",
      "27       ssYFA8RHnSTnulzUgjotcA    3.0   \n",
      "28       4T3tLnPK6MntQAPVItIEFg    2.0   \n",
      "29       dp6rinVjRXYaAABTU6BYsA    3.0   \n",
      "...                         ...    ...   \n",
      "1199237  P7kC9Z0N34W3sAzGw2ud5A    2.0   \n",
      "1199238  cbOgU66-nb-75gT7pub28w    4.0   \n",
      "1199239  qcrjHOrYncli0KMYAbE_Zw    1.0   \n",
      "1199240  IvBJEJ6zCliB9fjnYZ9YHg    2.0   \n",
      "1199241  B5YpeY_SHetMyqKG92Lqsw    5.0   \n",
      "1199242  Z_-1-2c17hCxQjU_HFYQdg    2.0   \n",
      "1199243  TT4QNOMCYki1mvNmnpvnTg    5.0   \n",
      "1199244  NYKyM4ZqZRlszZPjUq5_eQ    5.0   \n",
      "1199245  PHCrDPUPXMd3oUunQtbrKQ    1.0   \n",
      "1199246  EjbCHA_C5MwpGjaeUP5oDQ    4.0   \n",
      "1199247  VPDzGuUVA-hEyRBSB21_sQ    4.0   \n",
      "1199248  -LsA12hyH6hvS_QxTaM24A    1.0   \n",
      "1199249  Kr0KmY8miHCvuJ448tgFsw    4.0   \n",
      "1199250  fRkG9kWgQE9CrfmUAYk7-A    4.0   \n",
      "1199251  -lFj1ETh0dMlRt2CHIVhgg    5.0   \n",
      "1199252  YIwO7sm6WyvZZtOIz6AlSQ    5.0   \n",
      "1199253  FssbmZ5eD-jc2gy_lNAbEA    4.0   \n",
      "1199254  UkBlnRHz3Z4kNs181FdPvw    4.0   \n",
      "1199255  25lPbi1X3PcmhAIQM7Js9A    4.0   \n",
      "1199256  hsF8hi6ZUPRKMItHRQIL3Q    5.0   \n",
      "1199257  Hb3oB54DF_lQ5qKdbFOPEA    4.0   \n",
      "1199258  GAuxhKaWFOpV0oW1WgecZA    3.0   \n",
      "1199259  x6F0rFxDX-wsjsH42h-MjA    4.0   \n",
      "1199260  gHYYDw64i9I_71n_lTOdWw    4.0   \n",
      "1199261  CdVHl2JobRdpp5S61Jj-1Q    5.0   \n",
      "1199262  UwdDj23NbmBMRKtWQ4nWVQ    5.0   \n",
      "1199263  jQ0UKnDQUYpRQoJRrzo5Mw    5.0   \n",
      "1199264  zhYk0aPlTQFNUbPYg1qt_Q    5.0   \n",
      "1199265  ixnpFW4VZ3RFiOMSacg2ng    4.0   \n",
      "1199266  misKlgKbNQXt-Zzd8PEdCw    1.0   \n",
      "\n",
      "                                                      text  useful  \\\n",
      "0        This place sucks. The customer service is horr...     2.0   \n",
      "1        Great haircut, cool atmosphere, and really nic...     1.0   \n",
      "2        Food was alright, the service was HORRIBLE! Bo...     1.0   \n",
      "3        The price is about the same as Quizinos. The s...     0.0   \n",
      "4        The staff were very helpful. We painted potter...     0.0   \n",
      "5        I really like this store. Very clean, well sto...     1.0   \n",
      "6        The butter burger was cooked perfectly and jui...     0.0   \n",
      "7        Despite the long drive thru line, they were re...     0.0   \n",
      "8        Overall rating: 2.5 for a 4:30 weekday visit (...     1.0   \n",
      "9        4 because there's this one cashier who, each t...     1.0   \n",
      "10       Came here before the reno to watch foreign mov...     0.0   \n",
      "11       My last review was a novel, this will be short...     0.0   \n",
      "12       Great prices when there's a $10 off coupon. Lo...     0.0   \n",
      "13       First time here started off with no line, by t...     6.0   \n",
      "14       First and last time at this location. We've be...     0.0   \n",
      "15       Horrible. The smart ones have closed their acc...     1.0   \n",
      "16       Love the 'old school' ambiance. Friendly staff...     1.0   \n",
      "17       Place is always packed for weekend dinners, ha...     0.0   \n",
      "18       I would have to say my husband and I are very ...     9.0   \n",
      "19       I've been coming here for a while and I love h...     0.0   \n",
      "20       I've had samples of their ice cream which are ...     0.0   \n",
      "21       I'm not good at explaining how I want my hair ...     0.0   \n",
      "22       I've been here a few times with my family and ...     0.0   \n",
      "23       The spicy wonton was my favorite. We ordered a...     0.0   \n",
      "24       I am the first to admit that I don't know Ronc...     2.0   \n",
      "25       Bamburger is the latest entry into the inexpen...     8.0   \n",
      "26       Torontonians have welcomed Momofuku with open ...     2.0   \n",
      "27       Much like Ed Ho's recent earth Bloor West ende...     0.0   \n",
      "28       Having grown up enjoying pubs far and wide, it...     2.0   \n",
      "29       Sometimes I ride the 501 streetcar just for so...     1.0   \n",
      "...                                                    ...     ...   \n",
      "1199237  My own personal service was fine but the recep...     0.0   \n",
      "1199238  Fancy for the view, nice place to eat at at le...     0.0   \n",
      "1199239  A couple weeks ago, My friends and I arrived i...     3.0   \n",
      "1199240  Disorganized staff and not worth the price. Th...     1.0   \n",
      "1199241  I loved this restaurant. I will recommend this...     1.0   \n",
      "1199242  The service is disappointing. This is my secon...     1.0   \n",
      "1199243  First off I would like to say thank you to qua...     0.0   \n",
      "1199244  I had purchased a desk at a goodwill and had c...     0.0   \n",
      "1199245  I went to the Palms Casino thru Bookit.com.  M...     0.0   \n",
      "1199246  I've been donating blood for decades. It's one...     7.0   \n",
      "1199247  They were out of Yak so I had the lamb stew. V...     3.0   \n",
      "1199248  Beware of a restaurant that won't put beer pri...     3.0   \n",
      "1199249  What a nice little co-op market! It's small bu...     1.0   \n",
      "1199250  TG has risen from the ashes and spread it's wi...     6.0   \n",
      "1199251  My third time here, this time for drinks and d...     5.0   \n",
      "1199252  The Spousal Unit and I attended the first of C...     7.0   \n",
      "1199253  The S.U. and I were invited to dinner in the S...     4.0   \n",
      "1199254  Gotta agree with the praise for Los Gemelos. G...     3.0   \n",
      "1199255  The place is small with a low ceiling. It's in...     3.0   \n",
      "1199256  So... Wine and beer is now available. It's lim...     3.0   \n",
      "1199257  A solid Turkish place. They cover all the basi...     0.0   \n",
      "1199258  Do you have any local beers? \\nNo, we're not a...     3.0   \n",
      "1199259  New to the neighborhood and working my way dow...     0.0   \n",
      "1199260  PNNH makes the grade. I've been here twice and...     3.0   \n",
      "1199261  The S.U. was out of town, it was cold and rath...     4.0   \n",
      "1199262  Food was delicious. Loved the service of Eric!...     0.0   \n",
      "1199263  I have never had a hair cut from the person wh...     0.0   \n",
      "1199264  I brought my coworkers and boss here for a lig...     2.0   \n",
      "1199265  Loved the location, the patio, the service, an...     0.0   \n",
      "1199266  The first and the last time I will go there. M...     0.0   \n",
      "\n",
      "                        user_id     split  \n",
      "0        msQe1u7Z_XuqjGoqhB0J5g  0.079663  \n",
      "1        eG6HneK9zLcuZpVuKcsCGQ  0.783531  \n",
      "2        5ngpW5tf3ep680eG1HxHzA -0.877038  \n",
      "3        FjH3TH8OvHGLNEbzdEYlNg -0.726873  \n",
      "4        FjH3TH8OvHGLNEbzdEYlNg  0.527461  \n",
      "5        zx_Op2OAOM_fRic9tU-jqA  0.378582  \n",
      "6        Ka7TIp74VHSa90rfdg4_2g  0.376235  \n",
      "7        0pf5VuzE4_1pwj5NJHG5TQ  1.928360  \n",
      "8        0pf5VuzE4_1pwj5NJHG5TQ -1.207208  \n",
      "9        0pf5VuzE4_1pwj5NJHG5TQ -1.305183  \n",
      "10       0pf5VuzE4_1pwj5NJHG5TQ -0.679309  \n",
      "11       0pf5VuzE4_1pwj5NJHG5TQ  0.650472  \n",
      "12       0pf5VuzE4_1pwj5NJHG5TQ -3.151503  \n",
      "13       0pf5VuzE4_1pwj5NJHG5TQ  1.433909  \n",
      "14       0pf5VuzE4_1pwj5NJHG5TQ  0.457295  \n",
      "15       0pf5VuzE4_1pwj5NJHG5TQ  0.742056  \n",
      "16       0pf5VuzE4_1pwj5NJHG5TQ  0.797157  \n",
      "17       0pf5VuzE4_1pwj5NJHG5TQ  0.124647  \n",
      "18       AYYKxiTdfsPIOBo3MqfAUg -1.421250  \n",
      "19       Yy_iGXxLpL6tYDQoE-6XVg  0.282954  \n",
      "20       Yy_iGXxLpL6tYDQoE-6XVg -1.196680  \n",
      "21       Yy_iGXxLpL6tYDQoE-6XVg  0.508195  \n",
      "22       Yy_iGXxLpL6tYDQoE-6XVg -0.067443  \n",
      "23       Yy_iGXxLpL6tYDQoE-6XVg -0.742026  \n",
      "24       YHWsLBS8jzZiPjKHMFOaAA  0.889585  \n",
      "25       YHWsLBS8jzZiPjKHMFOaAA -1.517136  \n",
      "26       YHWsLBS8jzZiPjKHMFOaAA -0.644772  \n",
      "27       YHWsLBS8jzZiPjKHMFOaAA  0.560565  \n",
      "28       YHWsLBS8jzZiPjKHMFOaAA  0.721606  \n",
      "29       YHWsLBS8jzZiPjKHMFOaAA -0.761503  \n",
      "...                         ...       ...  \n",
      "1199237  ER_ZPy4QoitJK9F0qUY0Bw  1.836237  \n",
      "1199238  6NXtVSpWnu8O-Niww58gFg  0.308715  \n",
      "1199239  nyrKpx9xOwEcCi_fLO3kVw -1.208329  \n",
      "1199240  nyrKpx9xOwEcCi_fLO3kVw  0.546518  \n",
      "1199241  nyrKpx9xOwEcCi_fLO3kVw -1.212212  \n",
      "1199242  nyrKpx9xOwEcCi_fLO3kVw -0.061547  \n",
      "1199243  RtTC5pKxiTkByTe_8LNUDA -2.107090  \n",
      "1199244  whGQN8LVi6pQqkuCioOXKw  0.623616  \n",
      "1199245  UyDpNcErsWlk8ATEXL23Dg -2.096083  \n",
      "1199246  3LC2sKfvz_nWuJquUDsNnw  0.120527  \n",
      "1199247  3LC2sKfvz_nWuJquUDsNnw  0.516305  \n",
      "1199248  3LC2sKfvz_nWuJquUDsNnw -0.746368  \n",
      "1199249  3LC2sKfvz_nWuJquUDsNnw -0.665743  \n",
      "1199250  3LC2sKfvz_nWuJquUDsNnw  0.031826  \n",
      "1199251  3LC2sKfvz_nWuJquUDsNnw -0.010578  \n",
      "1199252  3LC2sKfvz_nWuJquUDsNnw -0.184786  \n",
      "1199253  3LC2sKfvz_nWuJquUDsNnw -0.574890  \n",
      "1199254  3LC2sKfvz_nWuJquUDsNnw  2.643665  \n",
      "1199255  3LC2sKfvz_nWuJquUDsNnw -0.684217  \n",
      "1199256  3LC2sKfvz_nWuJquUDsNnw -1.057909  \n",
      "1199257  3LC2sKfvz_nWuJquUDsNnw -1.215997  \n",
      "1199258  3LC2sKfvz_nWuJquUDsNnw -2.035916  \n",
      "1199259  3LC2sKfvz_nWuJquUDsNnw -0.835026  \n",
      "1199260  3LC2sKfvz_nWuJquUDsNnw -1.621386  \n",
      "1199261  3LC2sKfvz_nWuJquUDsNnw -1.139793  \n",
      "1199262  IDh4clMpgeeVVTEX2utfsQ  0.452012  \n",
      "1199263  uDGQYAIUSne3LKKhTAvKLg  1.152434  \n",
      "1199264  hDamkEc4NvaXDMD1CMtG2A  0.278037  \n",
      "1199265  FaAITTapZkngBDJus4niJQ  0.615282  \n",
      "1199266  NOrAsGtOH9BwPpcRWgo4-g -2.139548  \n",
      "\n",
      "[1199267 rows x 11 columns]>\n"
     ]
    }
   ],
   "source": [
    "df = pd.read_csv('/Users/pronnoygoswami/Documents/Virginia Tech/Fall 2018/Data Analytics/Project/Yelp/dataset/model_test.csv')\n",
    "print(df.head)"
   ]
  },
  {
   "cell_type": "code",
   "execution_count": 18,
   "metadata": {},
   "outputs": [],
   "source": [
    "train = pd.read_csv('/Users/pronnoygoswami/Documents/Virginia Tech/Fall 2018/Data Analytics/Project/Yelp/dataset/model_train.csv', skipinitialspace=True, usecols = ['text', 'stars'])\n",
    "test = pd.read_csv('/Users/pronnoygoswami/Documents/Virginia Tech/Fall 2018/Data Analytics/Project/Yelp/dataset/model_test.csv', skipinitialspace=True, usecols = ['text', 'stars'])"
   ]
  },
  {
   "cell_type": "code",
   "execution_count": 22,
   "metadata": {
    "scrolled": true
   },
   "outputs": [
    {
     "ename": "KeyError",
     "evalue": "\"['stars'] not in index\"",
     "output_type": "error",
     "traceback": [
      "\u001b[0;31m---------------------------------------------------------------------------\u001b[0m",
      "\u001b[0;31mKeyError\u001b[0m                                  Traceback (most recent call last)",
      "\u001b[0;32m<ipython-input-22-1e968998be9d>\u001b[0m in \u001b[0;36m<module>\u001b[0;34m()\u001b[0m\n\u001b[0;32m----> 1\u001b[0;31m \u001b[0mtrain\u001b[0m \u001b[0;34m=\u001b[0m \u001b[0mpd\u001b[0m\u001b[0;34m.\u001b[0m\u001b[0mget_dummies\u001b[0m\u001b[0;34m(\u001b[0m\u001b[0mtrain\u001b[0m\u001b[0;34m,\u001b[0m \u001b[0mcolumns\u001b[0m\u001b[0;34m=\u001b[0m\u001b[0;34m[\u001b[0m\u001b[0;34m'stars'\u001b[0m\u001b[0;34m]\u001b[0m\u001b[0;34m)\u001b[0m\u001b[0;34m\u001b[0m\u001b[0m\n\u001b[0m",
      "\u001b[0;32m~/anaconda3/lib/python3.7/site-packages/pandas/core/reshape/reshape.py\u001b[0m in \u001b[0;36mget_dummies\u001b[0;34m(data, prefix, prefix_sep, dummy_na, columns, sparse, drop_first, dtype)\u001b[0m\n\u001b[1;32m    842\u001b[0m                 include=dtypes_to_encode)\n\u001b[1;32m    843\u001b[0m         \u001b[0;32melse\u001b[0m\u001b[0;34m:\u001b[0m\u001b[0;34m\u001b[0m\u001b[0m\n\u001b[0;32m--> 844\u001b[0;31m             \u001b[0mdata_to_encode\u001b[0m \u001b[0;34m=\u001b[0m \u001b[0mdata\u001b[0m\u001b[0;34m[\u001b[0m\u001b[0mcolumns\u001b[0m\u001b[0;34m]\u001b[0m\u001b[0;34m\u001b[0m\u001b[0m\n\u001b[0m\u001b[1;32m    845\u001b[0m \u001b[0;34m\u001b[0m\u001b[0m\n\u001b[1;32m    846\u001b[0m         \u001b[0;31m# validate prefixes and separator to avoid silently dropping cols\u001b[0m\u001b[0;34m\u001b[0m\u001b[0;34m\u001b[0m\u001b[0m\n",
      "\u001b[0;32m~/anaconda3/lib/python3.7/site-packages/pandas/core/frame.py\u001b[0m in \u001b[0;36m__getitem__\u001b[0;34m(self, key)\u001b[0m\n\u001b[1;32m   2680\u001b[0m         \u001b[0;32mif\u001b[0m \u001b[0misinstance\u001b[0m\u001b[0;34m(\u001b[0m\u001b[0mkey\u001b[0m\u001b[0;34m,\u001b[0m \u001b[0;34m(\u001b[0m\u001b[0mSeries\u001b[0m\u001b[0;34m,\u001b[0m \u001b[0mnp\u001b[0m\u001b[0;34m.\u001b[0m\u001b[0mndarray\u001b[0m\u001b[0;34m,\u001b[0m \u001b[0mIndex\u001b[0m\u001b[0;34m,\u001b[0m \u001b[0mlist\u001b[0m\u001b[0;34m)\u001b[0m\u001b[0;34m)\u001b[0m\u001b[0;34m:\u001b[0m\u001b[0;34m\u001b[0m\u001b[0m\n\u001b[1;32m   2681\u001b[0m             \u001b[0;31m# either boolean or fancy integer index\u001b[0m\u001b[0;34m\u001b[0m\u001b[0;34m\u001b[0m\u001b[0m\n\u001b[0;32m-> 2682\u001b[0;31m             \u001b[0;32mreturn\u001b[0m \u001b[0mself\u001b[0m\u001b[0;34m.\u001b[0m\u001b[0m_getitem_array\u001b[0m\u001b[0;34m(\u001b[0m\u001b[0mkey\u001b[0m\u001b[0;34m)\u001b[0m\u001b[0;34m\u001b[0m\u001b[0m\n\u001b[0m\u001b[1;32m   2683\u001b[0m         \u001b[0;32melif\u001b[0m \u001b[0misinstance\u001b[0m\u001b[0;34m(\u001b[0m\u001b[0mkey\u001b[0m\u001b[0;34m,\u001b[0m \u001b[0mDataFrame\u001b[0m\u001b[0;34m)\u001b[0m\u001b[0;34m:\u001b[0m\u001b[0;34m\u001b[0m\u001b[0m\n\u001b[1;32m   2684\u001b[0m             \u001b[0;32mreturn\u001b[0m \u001b[0mself\u001b[0m\u001b[0;34m.\u001b[0m\u001b[0m_getitem_frame\u001b[0m\u001b[0;34m(\u001b[0m\u001b[0mkey\u001b[0m\u001b[0;34m)\u001b[0m\u001b[0;34m\u001b[0m\u001b[0m\n",
      "\u001b[0;32m~/anaconda3/lib/python3.7/site-packages/pandas/core/frame.py\u001b[0m in \u001b[0;36m_getitem_array\u001b[0;34m(self, key)\u001b[0m\n\u001b[1;32m   2724\u001b[0m             \u001b[0;32mreturn\u001b[0m \u001b[0mself\u001b[0m\u001b[0;34m.\u001b[0m\u001b[0m_take\u001b[0m\u001b[0;34m(\u001b[0m\u001b[0mindexer\u001b[0m\u001b[0;34m,\u001b[0m \u001b[0maxis\u001b[0m\u001b[0;34m=\u001b[0m\u001b[0;36m0\u001b[0m\u001b[0;34m)\u001b[0m\u001b[0;34m\u001b[0m\u001b[0m\n\u001b[1;32m   2725\u001b[0m         \u001b[0;32melse\u001b[0m\u001b[0;34m:\u001b[0m\u001b[0;34m\u001b[0m\u001b[0m\n\u001b[0;32m-> 2726\u001b[0;31m             \u001b[0mindexer\u001b[0m \u001b[0;34m=\u001b[0m \u001b[0mself\u001b[0m\u001b[0;34m.\u001b[0m\u001b[0mloc\u001b[0m\u001b[0;34m.\u001b[0m\u001b[0m_convert_to_indexer\u001b[0m\u001b[0;34m(\u001b[0m\u001b[0mkey\u001b[0m\u001b[0;34m,\u001b[0m \u001b[0maxis\u001b[0m\u001b[0;34m=\u001b[0m\u001b[0;36m1\u001b[0m\u001b[0;34m)\u001b[0m\u001b[0;34m\u001b[0m\u001b[0m\n\u001b[0m\u001b[1;32m   2727\u001b[0m             \u001b[0;32mreturn\u001b[0m \u001b[0mself\u001b[0m\u001b[0;34m.\u001b[0m\u001b[0m_take\u001b[0m\u001b[0;34m(\u001b[0m\u001b[0mindexer\u001b[0m\u001b[0;34m,\u001b[0m \u001b[0maxis\u001b[0m\u001b[0;34m=\u001b[0m\u001b[0;36m1\u001b[0m\u001b[0;34m)\u001b[0m\u001b[0;34m\u001b[0m\u001b[0m\n\u001b[1;32m   2728\u001b[0m \u001b[0;34m\u001b[0m\u001b[0m\n",
      "\u001b[0;32m~/anaconda3/lib/python3.7/site-packages/pandas/core/indexing.py\u001b[0m in \u001b[0;36m_convert_to_indexer\u001b[0;34m(self, obj, axis, is_setter)\u001b[0m\n\u001b[1;32m   1325\u001b[0m                 \u001b[0;32mif\u001b[0m \u001b[0mmask\u001b[0m\u001b[0;34m.\u001b[0m\u001b[0many\u001b[0m\u001b[0;34m(\u001b[0m\u001b[0;34m)\u001b[0m\u001b[0;34m:\u001b[0m\u001b[0;34m\u001b[0m\u001b[0m\n\u001b[1;32m   1326\u001b[0m                     raise KeyError('{mask} not in index'\n\u001b[0;32m-> 1327\u001b[0;31m                                    .format(mask=objarr[mask]))\n\u001b[0m\u001b[1;32m   1328\u001b[0m \u001b[0;34m\u001b[0m\u001b[0m\n\u001b[1;32m   1329\u001b[0m                 \u001b[0;32mreturn\u001b[0m \u001b[0mcom\u001b[0m\u001b[0;34m.\u001b[0m\u001b[0m_values_from_object\u001b[0m\u001b[0;34m(\u001b[0m\u001b[0mindexer\u001b[0m\u001b[0;34m)\u001b[0m\u001b[0;34m\u001b[0m\u001b[0m\n",
      "\u001b[0;31mKeyError\u001b[0m: \"['stars'] not in index\""
     ]
    }
   ],
   "source": [
    "train = pd.get_dummies(train, columns=['stars'])"
   ]
  },
  {
   "cell_type": "code",
   "execution_count": null,
   "metadata": {},
   "outputs": [],
   "source": [
    "train.head()"
   ]
  },
  {
   "cell_type": "code",
   "execution_count": null,
   "metadata": {},
   "outputs": [],
   "source": [
    "test = pd.get_dummies(test, columns=['stars'])"
   ]
  },
  {
   "cell_type": "code",
   "execution_count": null,
   "metadata": {},
   "outputs": [],
   "source": [
    "train['text'][10923]"
   ]
  },
  {
   "cell_type": "code",
   "execution_count": null,
   "metadata": {},
   "outputs": [],
   "source": [
    "lens = train.text.str.len()\n",
    "lens.mean(), lens.std(), lens.max(), lens.min()"
   ]
  },
  {
   "cell_type": "code",
   "execution_count": null,
   "metadata": {},
   "outputs": [],
   "source": [
    "lens.hist();"
   ]
  },
  {
   "cell_type": "code",
   "execution_count": null,
   "metadata": {},
   "outputs": [],
   "source": [
    "import re, string"
   ]
  },
  {
   "cell_type": "code",
   "execution_count": null,
   "metadata": {},
   "outputs": [],
   "source": [
    "re_tok = re.compile(f'([{string.punctuation}“”¨«»®´·º½¾¿¡§£₤‘’])')"
   ]
  },
  {
   "cell_type": "code",
   "execution_count": null,
   "metadata": {},
   "outputs": [],
   "source": [
    "def tokenize(s): return re_tok.sub(r' \\1 ', s).split()"
   ]
  },
  {
   "cell_type": "code",
   "execution_count": null,
   "metadata": {},
   "outputs": [],
   "source": [
    "n = train.shape[0]\n",
    "vec = TfidfVectorizer(ngram_range=(1, 2), tokenizer=tokenize,\n",
    "                     min_df = 3, max_df = 0.9, strip_accents = 'unicode', use_idf = 1,\n",
    "                     smooth_idf = 1, sublinear_tf = 1)"
   ]
  },
  {
   "cell_type": "code",
   "execution_count": null,
   "metadata": {},
   "outputs": [],
   "source": [
    "trn_term_doc = vec.fit_transform(train['text'])"
   ]
  },
  {
   "cell_type": "code",
   "execution_count": null,
   "metadata": {},
   "outputs": [],
   "source": [
    "test_term_doc = vec.transform(test['text'])"
   ]
  },
  {
   "cell_type": "code",
   "execution_count": null,
   "metadata": {},
   "outputs": [],
   "source": [
    "trn_term_doc, test_term_doc"
   ]
  },
  {
   "cell_type": "code",
   "execution_count": null,
   "metadata": {},
   "outputs": [],
   "source": [
    "trn_term_doc.shape"
   ]
  },
  {
   "cell_type": "code",
   "execution_count": null,
   "metadata": {},
   "outputs": [],
   "source": [
    "def pr(y_i, y):\n",
    "    p = x[y==y_i].sum(0)\n",
    "    return (p+1)/((y==y_i).sum()+1)"
   ]
  },
  {
   "cell_type": "code",
   "execution_count": null,
   "metadata": {},
   "outputs": [],
   "source": [
    "x = trn_term_doc\n",
    "test_x = test_term_doc"
   ]
  },
  {
   "cell_type": "code",
   "execution_count": null,
   "metadata": {},
   "outputs": [],
   "source": [
    "def get_mdl(y):\n",
    "    y = y.values\n",
    "    r = np.log(pr(1, y) /pr(0,y))\n",
    "    m = LogisticRegression(C=4, dual = True)\n",
    "    x_nb = x.multiply(r)\n",
    "    return m.fit(x_nb, y), r"
   ]
  },
  {
   "cell_type": "code",
   "execution_count": null,
   "metadata": {},
   "outputs": [],
   "source": [
    "label_cols = ['stars_1', 'stars_2', 'stars_3', 'stars_4', 'stars_5']"
   ]
  },
  {
   "cell_type": "code",
   "execution_count": null,
   "metadata": {},
   "outputs": [],
   "source": [
    "preds = np.zeros((len(test), len(label_cols)))\n",
    "for i, j in enumerate(label_cols):\n",
    "    print('fit', j)\n",
    "    m,r = get_mdl(train[j])\n",
    "    preds[:,i] = m.predict_proba(test_x.multiply(r))[:,1]"
   ]
  },
  {
   "cell_type": "code",
   "execution_count": 5,
   "metadata": {},
   "outputs": [
    {
     "ename": "NameError",
     "evalue": "name 'preds' is not defined",
     "output_type": "error",
     "traceback": [
      "\u001b[0;31m---------------------------------------------------------------------------\u001b[0m",
      "\u001b[0;31mNameError\u001b[0m                                 Traceback (most recent call last)",
      "\u001b[0;32m<ipython-input-5-75929ee3ee64>\u001b[0m in \u001b[0;36m<module>\u001b[0;34m()\u001b[0m\n\u001b[0;32m----> 1\u001b[0;31m \u001b[0mp\u001b[0m \u001b[0;34m=\u001b[0m \u001b[0mpd\u001b[0m\u001b[0;34m.\u001b[0m\u001b[0mDataFrame\u001b[0m\u001b[0;34m(\u001b[0m\u001b[0mpreds\u001b[0m\u001b[0;34m,\u001b[0m \u001b[0mcolumns\u001b[0m \u001b[0;34m=\u001b[0m \u001b[0;34m[\u001b[0m\u001b[0;34m[\u001b[0m\u001b[0;34m'stars_1'\u001b[0m\u001b[0;34m,\u001b[0m \u001b[0;34m'stars_2'\u001b[0m\u001b[0;34m,\u001b[0m \u001b[0;34m'stars_3'\u001b[0m\u001b[0;34m,\u001b[0m \u001b[0;34m'stars_4'\u001b[0m\u001b[0;34m,\u001b[0m \u001b[0;34m'stars_5'\u001b[0m\u001b[0;34m]\u001b[0m\u001b[0;34m]\u001b[0m\u001b[0;34m)\u001b[0m\u001b[0;34m\u001b[0m\u001b[0m\n\u001b[0m",
      "\u001b[0;31mNameError\u001b[0m: name 'preds' is not defined"
     ]
    }
   ],
   "source": [
    "p = pd.DataFrame(preds, columns = [['stars_1', 'stars_2', 'stars_3', 'stars_4', 'stars_5']])"
   ]
  },
  {
   "cell_type": "code",
   "execution_count": 6,
   "metadata": {},
   "outputs": [
    {
     "ename": "NameError",
     "evalue": "name 'p' is not defined",
     "output_type": "error",
     "traceback": [
      "\u001b[0;31m---------------------------------------------------------------------------\u001b[0m",
      "\u001b[0;31mNameError\u001b[0m                                 Traceback (most recent call last)",
      "\u001b[0;32m<ipython-input-6-3e650c17f0d5>\u001b[0m in \u001b[0;36m<module>\u001b[0;34m()\u001b[0m\n\u001b[0;32m----> 1\u001b[0;31m \u001b[0mp\u001b[0m\u001b[0;34m.\u001b[0m\u001b[0mto_csv\u001b[0m\u001b[0;34m(\u001b[0m\u001b[0;34m'nb_preds.csv'\u001b[0m\u001b[0;34m,\u001b[0m \u001b[0mindex\u001b[0m \u001b[0;34m=\u001b[0m \u001b[0;32mFalse\u001b[0m\u001b[0;34m)\u001b[0m\u001b[0;34m\u001b[0m\u001b[0m\n\u001b[0m",
      "\u001b[0;31mNameError\u001b[0m: name 'p' is not defined"
     ]
    }
   ],
   "source": [
    "p.to_csv('nb_preds.csv', index = False)"
   ]
  },
  {
   "cell_type": "code",
   "execution_count": 7,
   "metadata": {},
   "outputs": [
    {
     "ename": "NameError",
     "evalue": "name 'label_cols' is not defined",
     "output_type": "error",
     "traceback": [
      "\u001b[0;31m---------------------------------------------------------------------------\u001b[0m",
      "\u001b[0;31mNameError\u001b[0m                                 Traceback (most recent call last)",
      "\u001b[0;32m<ipython-input-7-557177c3b9aa>\u001b[0m in \u001b[0;36m<module>\u001b[0;34m()\u001b[0m\n\u001b[0;32m----> 1\u001b[0;31m \u001b[0mmetrics\u001b[0m\u001b[0;34m.\u001b[0m\u001b[0maccuracy_score\u001b[0m\u001b[0;34m(\u001b[0m\u001b[0mnp\u001b[0m\u001b[0;34m.\u001b[0m\u001b[0margmax\u001b[0m\u001b[0;34m(\u001b[0m\u001b[0mtest\u001b[0m\u001b[0;34m[\u001b[0m\u001b[0mlabel_cols\u001b[0m\u001b[0;34m]\u001b[0m\u001b[0;34m.\u001b[0m\u001b[0mvalues\u001b[0m\u001b[0;34m,\u001b[0m \u001b[0maxis\u001b[0m \u001b[0;34m=\u001b[0m \u001b[0;36m1\u001b[0m\u001b[0;34m)\u001b[0m\u001b[0;34m,\u001b[0m \u001b[0mnp\u001b[0m\u001b[0;34m.\u001b[0m\u001b[0margmax\u001b[0m\u001b[0;34m(\u001b[0m\u001b[0mpreds\u001b[0m\u001b[0;34m,\u001b[0m \u001b[0maxis\u001b[0m \u001b[0;34m=\u001b[0m \u001b[0;36m1\u001b[0m\u001b[0;34m)\u001b[0m\u001b[0;34m)\u001b[0m\u001b[0;34m\u001b[0m\u001b[0m\n\u001b[0m",
      "\u001b[0;31mNameError\u001b[0m: name 'label_cols' is not defined"
     ]
    }
   ],
   "source": [
    "metrics.accuracy_score(np.argmax(test[label_cols].values, axis = 1), np.argmax(preds, axis = 1))"
   ]
  },
  {
   "cell_type": "code",
   "execution_count": null,
   "metadata": {},
   "outputs": [],
   "source": []
  }
 ],
 "metadata": {
  "kernelspec": {
   "display_name": "Python 3",
   "language": "python",
   "name": "python3"
  },
  "language_info": {
   "codemirror_mode": {
    "name": "ipython",
    "version": 2
   },
   "file_extension": ".py",
   "mimetype": "text/x-python",
   "name": "python",
   "nbconvert_exporter": "python",
   "pygments_lexer": "ipython2",
   "version": "2.7.15"
  }
 },
 "nbformat": 4,
 "nbformat_minor": 2
}
